{
 "cells": [
  {
   "cell_type": "markdown",
   "metadata": {},
   "source": [
    "Unit 4, Lesson 1\n",
    "\n",
    "1) Define the likelihood that an individual will contract a specific disease\n",
    "- Supervised; continuous variable and calculate probability\n",
    "2) Translate a set of images into variables for modeling\n",
    "- Unsupervised; image classifier\n",
    "3) An ecommerce company wants to identify power users\n",
    "- Supervised; binary classify between power and non-power\n",
    "4) That same company wants to see shopping patterns in users\n",
    "- Unsupervised/Supervised\n",
    "5) You want to reduce the number of variables inputting into your random forest model\n",
    "- Supervised"
   ]
  }
 ],
 "metadata": {
  "kernelspec": {
   "display_name": "Python 3",
   "language": "python",
   "name": "python3"
  },
  "language_info": {
   "codemirror_mode": {
    "name": "ipython",
    "version": 3
   },
   "file_extension": ".py",
   "mimetype": "text/x-python",
   "name": "python",
   "nbconvert_exporter": "python",
   "pygments_lexer": "ipython3",
   "version": "3.7.0"
  }
 },
 "nbformat": 4,
 "nbformat_minor": 2
}
